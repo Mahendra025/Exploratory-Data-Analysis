{
 "cells": [
  {
   "cell_type": "code",
   "execution_count": 1,
   "id": "c1a2a92a",
   "metadata": {},
   "outputs": [
    {
     "name": "stdout",
     "output_type": "stream",
     "text": [
      "Defaulting to user installation because normal site-packages is not writeable\n",
      "Requirement already satisfied: numpy in c:\\programdata\\anaconda3\\lib\\site-packages (1.21.5)\n",
      "Note: you may need to restart the kernel to use updated packages.\n"
     ]
    }
   ],
   "source": [
    "pip install numpy"
   ]
  },
  {
   "cell_type": "code",
   "execution_count": 2,
   "id": "17792b2d",
   "metadata": {},
   "outputs": [
    {
     "name": "stdout",
     "output_type": "stream",
     "text": [
      "Defaulting to user installation because normal site-packages is not writeable\n",
      "Requirement already satisfied: pandas in c:\\programdata\\anaconda3\\lib\\site-packages (1.4.2)\n",
      "Requirement already satisfied: pytz>=2020.1 in c:\\programdata\\anaconda3\\lib\\site-packages (from pandas) (2021.3)\n",
      "Requirement already satisfied: python-dateutil>=2.8.1 in c:\\programdata\\anaconda3\\lib\\site-packages (from pandas) (2.8.2)\n",
      "Requirement already satisfied: numpy>=1.18.5 in c:\\programdata\\anaconda3\\lib\\site-packages (from pandas) (1.21.5)\n",
      "Requirement already satisfied: six>=1.5 in c:\\programdata\\anaconda3\\lib\\site-packages (from python-dateutil>=2.8.1->pandas) (1.16.0)\n",
      "Note: you may need to restart the kernel to use updated packages.\n"
     ]
    }
   ],
   "source": [
    "pip install pandas"
   ]
  },
  {
   "cell_type": "code",
   "execution_count": 3,
   "id": "8052769e",
   "metadata": {},
   "outputs": [
    {
     "name": "stderr",
     "output_type": "stream",
     "text": [
      "C:\\Users\\PC\\AppData\\Local\\Temp\\ipykernel_6600\\3978922422.py:3: DeprecationWarning: `import pandas_profiling` is going to be deprecated by April 1st. Please use `import ydata_profiling` instead.\n",
      "  import pandas_profiling\n"
     ]
    }
   ],
   "source": [
    "import numpy as np\n",
    "import pandas as pd\n",
    "import pandas_profiling\n",
    "import matplotlib.pyplot as plt\n",
    "import seaborn as sns\n",
    "%matplotlib inline"
   ]
  },
  {
   "cell_type": "code",
   "execution_count": 4,
   "id": "422fa10f",
   "metadata": {},
   "outputs": [
    {
     "name": "stdout",
     "output_type": "stream",
     "text": [
      "Defaulting to user installation because normal site-packages is not writeable\n",
      "Requirement already satisfied: ydata_profiling in c:\\users\\pc\\appdata\\roaming\\python\\python39\\site-packages (4.1.2)\n",
      "Requirement already satisfied: scipy<1.10,>=1.4.1 in c:\\programdata\\anaconda3\\lib\\site-packages (from ydata_profiling) (1.7.3)\n",
      "Requirement already satisfied: tqdm<4.65,>=4.48.2 in c:\\programdata\\anaconda3\\lib\\site-packages (from ydata_profiling) (4.64.0)\n",
      "Requirement already satisfied: typeguard<2.14,>=2.13.2 in c:\\users\\pc\\appdata\\roaming\\python\\python39\\site-packages (from ydata_profiling) (2.13.3)\n",
      "Requirement already satisfied: jinja2<3.2,>=2.11.1 in c:\\programdata\\anaconda3\\lib\\site-packages (from ydata_profiling) (2.11.3)\n",
      "Requirement already satisfied: pandas!=1.4.0,<1.6,>1.1 in c:\\programdata\\anaconda3\\lib\\site-packages (from ydata_profiling) (1.4.2)\n",
      "Requirement already satisfied: phik<0.13,>=0.11.1 in c:\\users\\pc\\appdata\\roaming\\python\\python39\\site-packages (from ydata_profiling) (0.12.3)\n",
      "Requirement already satisfied: matplotlib<3.7,>=3.2 in c:\\programdata\\anaconda3\\lib\\site-packages (from ydata_profiling) (3.5.1)\n",
      "Requirement already satisfied: PyYAML<6.1,>=5.0.0 in c:\\programdata\\anaconda3\\lib\\site-packages (from ydata_profiling) (6.0)\n",
      "Requirement already satisfied: visions[type_image_path]==0.7.5 in c:\\users\\pc\\appdata\\roaming\\python\\python39\\site-packages (from ydata_profiling) (0.7.5)\n",
      "Requirement already satisfied: seaborn<0.13,>=0.10.1 in c:\\programdata\\anaconda3\\lib\\site-packages (from ydata_profiling) (0.11.2)\n",
      "Requirement already satisfied: multimethod<1.10,>=1.4 in c:\\users\\pc\\appdata\\roaming\\python\\python39\\site-packages (from ydata_profiling) (1.9.1)\n",
      "Requirement already satisfied: imagehash==4.3.1 in c:\\users\\pc\\appdata\\roaming\\python\\python39\\site-packages (from ydata_profiling) (4.3.1)\n",
      "Requirement already satisfied: requests<2.29,>=2.24.0 in c:\\programdata\\anaconda3\\lib\\site-packages (from ydata_profiling) (2.27.1)\n",
      "Requirement already satisfied: pydantic<1.11,>=1.8.1 in c:\\users\\pc\\appdata\\roaming\\python\\python39\\site-packages (from ydata_profiling) (1.10.7)\n",
      "Requirement already satisfied: htmlmin==0.1.12 in c:\\users\\pc\\appdata\\roaming\\python\\python39\\site-packages (from ydata_profiling) (0.1.12)\n",
      "Requirement already satisfied: statsmodels<0.14,>=0.13.2 in c:\\programdata\\anaconda3\\lib\\site-packages (from ydata_profiling) (0.13.2)\n",
      "Requirement already satisfied: numpy<1.24,>=1.16.0 in c:\\programdata\\anaconda3\\lib\\site-packages (from ydata_profiling) (1.21.5)\n",
      "Requirement already satisfied: PyWavelets in c:\\programdata\\anaconda3\\lib\\site-packages (from imagehash==4.3.1->ydata_profiling) (1.3.0)\n",
      "Requirement already satisfied: pillow in c:\\programdata\\anaconda3\\lib\\site-packages (from imagehash==4.3.1->ydata_profiling) (9.0.1)\n",
      "Requirement already satisfied: attrs>=19.3.0 in c:\\programdata\\anaconda3\\lib\\site-packages (from visions[type_image_path]==0.7.5->ydata_profiling) (21.4.0)\n",
      "Requirement already satisfied: networkx>=2.4 in c:\\programdata\\anaconda3\\lib\\site-packages (from visions[type_image_path]==0.7.5->ydata_profiling) (2.7.1)\n",
      "Requirement already satisfied: tangled-up-in-unicode>=0.0.4 in c:\\users\\pc\\appdata\\roaming\\python\\python39\\site-packages (from visions[type_image_path]==0.7.5->ydata_profiling) (0.2.0)\n",
      "Requirement already satisfied: MarkupSafe>=0.23 in c:\\programdata\\anaconda3\\lib\\site-packages (from jinja2<3.2,>=2.11.1->ydata_profiling) (2.0.1)\n",
      "Requirement already satisfied: python-dateutil>=2.7 in c:\\programdata\\anaconda3\\lib\\site-packages (from matplotlib<3.7,>=3.2->ydata_profiling) (2.8.2)\n",
      "Requirement already satisfied: cycler>=0.10 in c:\\programdata\\anaconda3\\lib\\site-packages (from matplotlib<3.7,>=3.2->ydata_profiling) (0.11.0)\n",
      "Requirement already satisfied: fonttools>=4.22.0 in c:\\programdata\\anaconda3\\lib\\site-packages (from matplotlib<3.7,>=3.2->ydata_profiling) (4.25.0)\n",
      "Requirement already satisfied: packaging>=20.0 in c:\\programdata\\anaconda3\\lib\\site-packages (from matplotlib<3.7,>=3.2->ydata_profiling) (21.3)\n",
      "Requirement already satisfied: kiwisolver>=1.0.1 in c:\\programdata\\anaconda3\\lib\\site-packages (from matplotlib<3.7,>=3.2->ydata_profiling) (1.3.2)\n",
      "Requirement already satisfied: pyparsing>=2.2.1 in c:\\programdata\\anaconda3\\lib\\site-packages (from matplotlib<3.7,>=3.2->ydata_profiling) (3.0.4)\n",
      "Requirement already satisfied: pytz>=2020.1 in c:\\programdata\\anaconda3\\lib\\site-packages (from pandas!=1.4.0,<1.6,>1.1->ydata_profiling) (2021.3)\n",
      "Requirement already satisfied: joblib>=0.14.1 in c:\\programdata\\anaconda3\\lib\\site-packages (from phik<0.13,>=0.11.1->ydata_profiling) (1.1.0)\n",
      "Requirement already satisfied: typing-extensions>=4.2.0 in c:\\users\\pc\\appdata\\roaming\\python\\python39\\site-packages (from pydantic<1.11,>=1.8.1->ydata_profiling) (4.5.0)\n",
      "Requirement already satisfied: six>=1.5 in c:\\programdata\\anaconda3\\lib\\site-packages (from python-dateutil>=2.7->matplotlib<3.7,>=3.2->ydata_profiling) (1.16.0)\n",
      "Requirement already satisfied: certifi>=2017.4.17 in c:\\programdata\\anaconda3\\lib\\site-packages (from requests<2.29,>=2.24.0->ydata_profiling) (2021.10.8)\n",
      "Requirement already satisfied: idna<4,>=2.5 in c:\\programdata\\anaconda3\\lib\\site-packages (from requests<2.29,>=2.24.0->ydata_profiling) (3.3)\n",
      "Requirement already satisfied: urllib3<1.27,>=1.21.1 in c:\\programdata\\anaconda3\\lib\\site-packages (from requests<2.29,>=2.24.0->ydata_profiling) (1.26.9)\n",
      "Requirement already satisfied: charset-normalizer~=2.0.0 in c:\\programdata\\anaconda3\\lib\\site-packages (from requests<2.29,>=2.24.0->ydata_profiling) (2.0.4)\n",
      "Requirement already satisfied: patsy>=0.5.2 in c:\\programdata\\anaconda3\\lib\\site-packages (from statsmodels<0.14,>=0.13.2->ydata_profiling) (0.5.2)\n",
      "Requirement already satisfied: colorama in c:\\programdata\\anaconda3\\lib\\site-packages (from tqdm<4.65,>=4.48.2->ydata_profiling) (0.4.4)\n",
      "Note: you may need to restart the kernel to use updated packages.\n"
     ]
    }
   ],
   "source": [
    "pip install ydata_profiling"
   ]
  },
  {
   "cell_type": "code",
   "execution_count": 5,
   "id": "6efcee7f",
   "metadata": {},
   "outputs": [],
   "source": [
    "import ydata_profiling as pandas_profiling"
   ]
  },
  {
   "cell_type": "code",
   "execution_count": 6,
   "id": "ccf02c9e",
   "metadata": {},
   "outputs": [],
   "source": [
    "z_data=pd.read_csv(\"D:\\P EDA\\zomato.csv\")"
   ]
  },
  {
   "cell_type": "code",
   "execution_count": 7,
   "id": "c92085b0",
   "metadata": {},
   "outputs": [
    {
     "data": {
      "text/plain": [
       "(7105, 12)"
      ]
     },
     "execution_count": 7,
     "metadata": {},
     "output_type": "execute_result"
    }
   ],
   "source": [
    "z_data.shape"
   ]
  },
  {
   "cell_type": "code",
   "execution_count": 8,
   "id": "427526d0",
   "metadata": {},
   "outputs": [
    {
     "data": {
      "text/html": [
       "<div>\n",
       "<style scoped>\n",
       "    .dataframe tbody tr th:only-of-type {\n",
       "        vertical-align: middle;\n",
       "    }\n",
       "\n",
       "    .dataframe tbody tr th {\n",
       "        vertical-align: top;\n",
       "    }\n",
       "\n",
       "    .dataframe thead th {\n",
       "        text-align: right;\n",
       "    }\n",
       "</style>\n",
       "<table border=\"1\" class=\"dataframe\">\n",
       "  <thead>\n",
       "    <tr style=\"text-align: right;\">\n",
       "      <th></th>\n",
       "      <th>Unnamed: 0.1</th>\n",
       "      <th>Unnamed: 0</th>\n",
       "      <th>restaurant name</th>\n",
       "      <th>restaurant type</th>\n",
       "      <th>rate (out of 5)</th>\n",
       "      <th>num of ratings</th>\n",
       "      <th>avg cost (two people)</th>\n",
       "      <th>online_order</th>\n",
       "      <th>table booking</th>\n",
       "      <th>cuisines type</th>\n",
       "      <th>area</th>\n",
       "      <th>local address</th>\n",
       "    </tr>\n",
       "  </thead>\n",
       "  <tbody>\n",
       "    <tr>\n",
       "      <th>0</th>\n",
       "      <td>0</td>\n",
       "      <td>0</td>\n",
       "      <td>#FeelTheROLL</td>\n",
       "      <td>Quick Bites</td>\n",
       "      <td>3.4</td>\n",
       "      <td>7</td>\n",
       "      <td>200.0</td>\n",
       "      <td>No</td>\n",
       "      <td>No</td>\n",
       "      <td>Fast Food</td>\n",
       "      <td>Bellandur</td>\n",
       "      <td>Bellandur</td>\n",
       "    </tr>\n",
       "    <tr>\n",
       "      <th>1</th>\n",
       "      <td>1</td>\n",
       "      <td>1</td>\n",
       "      <td>#L-81 Cafe</td>\n",
       "      <td>Quick Bites</td>\n",
       "      <td>3.9</td>\n",
       "      <td>48</td>\n",
       "      <td>400.0</td>\n",
       "      <td>Yes</td>\n",
       "      <td>No</td>\n",
       "      <td>Fast Food, Beverages</td>\n",
       "      <td>Byresandra,Tavarekere,Madiwala</td>\n",
       "      <td>HSR</td>\n",
       "    </tr>\n",
       "    <tr>\n",
       "      <th>2</th>\n",
       "      <td>2</td>\n",
       "      <td>2</td>\n",
       "      <td>#refuel</td>\n",
       "      <td>Cafe</td>\n",
       "      <td>3.7</td>\n",
       "      <td>37</td>\n",
       "      <td>400.0</td>\n",
       "      <td>Yes</td>\n",
       "      <td>No</td>\n",
       "      <td>Cafe, Beverages</td>\n",
       "      <td>Bannerghatta Road</td>\n",
       "      <td>Bannerghatta Road</td>\n",
       "    </tr>\n",
       "    <tr>\n",
       "      <th>3</th>\n",
       "      <td>3</td>\n",
       "      <td>3</td>\n",
       "      <td>'@ Biryani Central</td>\n",
       "      <td>Casual Dining</td>\n",
       "      <td>2.7</td>\n",
       "      <td>135</td>\n",
       "      <td>550.0</td>\n",
       "      <td>Yes</td>\n",
       "      <td>No</td>\n",
       "      <td>Biryani, Mughlai, Chinese</td>\n",
       "      <td>Marathahalli</td>\n",
       "      <td>Marathahalli</td>\n",
       "    </tr>\n",
       "    <tr>\n",
       "      <th>4</th>\n",
       "      <td>4</td>\n",
       "      <td>4</td>\n",
       "      <td>'@ The Bbq</td>\n",
       "      <td>Casual Dining</td>\n",
       "      <td>2.8</td>\n",
       "      <td>40</td>\n",
       "      <td>700.0</td>\n",
       "      <td>Yes</td>\n",
       "      <td>No</td>\n",
       "      <td>BBQ, Continental, North Indian, Chinese, Bever...</td>\n",
       "      <td>Bellandur</td>\n",
       "      <td>Bellandur</td>\n",
       "    </tr>\n",
       "    <tr>\n",
       "      <th>5</th>\n",
       "      <td>5</td>\n",
       "      <td>5</td>\n",
       "      <td>'@99</td>\n",
       "      <td>Takeaway, Delivery</td>\n",
       "      <td>3.4</td>\n",
       "      <td>37</td>\n",
       "      <td>200.0</td>\n",
       "      <td>No</td>\n",
       "      <td>No</td>\n",
       "      <td>Mughlai, Biryani, Chinese, North Indian</td>\n",
       "      <td>Whitefield</td>\n",
       "      <td>Whitefield</td>\n",
       "    </tr>\n",
       "    <tr>\n",
       "      <th>6</th>\n",
       "      <td>6</td>\n",
       "      <td>6</td>\n",
       "      <td>'@Italy</td>\n",
       "      <td>Casual Dining</td>\n",
       "      <td>4.1</td>\n",
       "      <td>305</td>\n",
       "      <td>700.0</td>\n",
       "      <td>Yes</td>\n",
       "      <td>No</td>\n",
       "      <td>Italian</td>\n",
       "      <td>Banashankari</td>\n",
       "      <td>Kumaraswamy Layout</td>\n",
       "    </tr>\n",
       "    <tr>\n",
       "      <th>7</th>\n",
       "      <td>7</td>\n",
       "      <td>7</td>\n",
       "      <td>'@North Parontha Hut</td>\n",
       "      <td>Takeaway, Delivery</td>\n",
       "      <td>2.8</td>\n",
       "      <td>40</td>\n",
       "      <td>300.0</td>\n",
       "      <td>No</td>\n",
       "      <td>No</td>\n",
       "      <td>North Indian</td>\n",
       "      <td>Indiranagar</td>\n",
       "      <td>Old Airport Road</td>\n",
       "    </tr>\n",
       "    <tr>\n",
       "      <th>8</th>\n",
       "      <td>8</td>\n",
       "      <td>8</td>\n",
       "      <td>1000 B.C</td>\n",
       "      <td>Quick Bites</td>\n",
       "      <td>3.2</td>\n",
       "      <td>49</td>\n",
       "      <td>300.0</td>\n",
       "      <td>Yes</td>\n",
       "      <td>No</td>\n",
       "      <td>Arabian, Sandwich, Rolls, Burger</td>\n",
       "      <td>Byresandra,Tavarekere,Madiwala</td>\n",
       "      <td>Koramangala 5th Block</td>\n",
       "    </tr>\n",
       "    <tr>\n",
       "      <th>9</th>\n",
       "      <td>9</td>\n",
       "      <td>9</td>\n",
       "      <td>100ÃÂÃÂÃÂÃÂÃÂÃÂÃÂÃÂ°C</td>\n",
       "      <td>Casual Dining</td>\n",
       "      <td>3.7</td>\n",
       "      <td>41</td>\n",
       "      <td>450.0</td>\n",
       "      <td>No</td>\n",
       "      <td>No</td>\n",
       "      <td>Biryani, North Indian</td>\n",
       "      <td>Byresandra,Tavarekere,Madiwala</td>\n",
       "      <td>BTM</td>\n",
       "    </tr>\n",
       "  </tbody>\n",
       "</table>\n",
       "</div>"
      ],
      "text/plain": [
       "   Unnamed: 0.1  Unnamed: 0                       restaurant name  \\\n",
       "0             0           0                          #FeelTheROLL   \n",
       "1             1           1                            #L-81 Cafe   \n",
       "2             2           2                               #refuel   \n",
       "3             3           3                    '@ Biryani Central   \n",
       "4             4           4                            '@ The Bbq   \n",
       "5             5           5                                  '@99   \n",
       "6             6           6                               '@Italy   \n",
       "7             7           7                  '@North Parontha Hut   \n",
       "8             8           8                              1000 B.C   \n",
       "9             9           9  100ÃÂÃÂÃÂÃÂÃÂÃÂÃÂÃÂ°C   \n",
       "\n",
       "      restaurant type  rate (out of 5)  num of ratings  avg cost (two people)  \\\n",
       "0         Quick Bites              3.4               7                  200.0   \n",
       "1         Quick Bites              3.9              48                  400.0   \n",
       "2                Cafe              3.7              37                  400.0   \n",
       "3       Casual Dining              2.7             135                  550.0   \n",
       "4       Casual Dining              2.8              40                  700.0   \n",
       "5  Takeaway, Delivery              3.4              37                  200.0   \n",
       "6       Casual Dining              4.1             305                  700.0   \n",
       "7  Takeaway, Delivery              2.8              40                  300.0   \n",
       "8         Quick Bites              3.2              49                  300.0   \n",
       "9       Casual Dining              3.7              41                  450.0   \n",
       "\n",
       "  online_order table booking  \\\n",
       "0           No            No   \n",
       "1          Yes            No   \n",
       "2          Yes            No   \n",
       "3          Yes            No   \n",
       "4          Yes            No   \n",
       "5           No            No   \n",
       "6          Yes            No   \n",
       "7           No            No   \n",
       "8          Yes            No   \n",
       "9           No            No   \n",
       "\n",
       "                                       cuisines type  \\\n",
       "0                                          Fast Food   \n",
       "1                               Fast Food, Beverages   \n",
       "2                                    Cafe, Beverages   \n",
       "3                          Biryani, Mughlai, Chinese   \n",
       "4  BBQ, Continental, North Indian, Chinese, Bever...   \n",
       "5            Mughlai, Biryani, Chinese, North Indian   \n",
       "6                                            Italian   \n",
       "7                                       North Indian   \n",
       "8                   Arabian, Sandwich, Rolls, Burger   \n",
       "9                              Biryani, North Indian   \n",
       "\n",
       "                             area          local address  \n",
       "0                       Bellandur              Bellandur  \n",
       "1  Byresandra,Tavarekere,Madiwala                    HSR  \n",
       "2               Bannerghatta Road      Bannerghatta Road  \n",
       "3                    Marathahalli           Marathahalli  \n",
       "4                       Bellandur              Bellandur  \n",
       "5                      Whitefield             Whitefield  \n",
       "6                    Banashankari     Kumaraswamy Layout  \n",
       "7                     Indiranagar       Old Airport Road  \n",
       "8  Byresandra,Tavarekere,Madiwala  Koramangala 5th Block  \n",
       "9  Byresandra,Tavarekere,Madiwala                    BTM  "
      ]
     },
     "execution_count": 8,
     "metadata": {},
     "output_type": "execute_result"
    }
   ],
   "source": [
    "z_data.head(10)"
   ]
  },
  {
   "cell_type": "code",
   "execution_count": 9,
   "id": "840ad93e",
   "metadata": {},
   "outputs": [],
   "source": [
    "z_data.drop(['Unnamed: 0.1','Unnamed: 0','area'],axis=1,inplace=True)"
   ]
  },
  {
   "cell_type": "code",
   "execution_count": 10,
   "id": "f25c7277",
   "metadata": {},
   "outputs": [
    {
     "data": {
      "text/html": [
       "<div>\n",
       "<style scoped>\n",
       "    .dataframe tbody tr th:only-of-type {\n",
       "        vertical-align: middle;\n",
       "    }\n",
       "\n",
       "    .dataframe tbody tr th {\n",
       "        vertical-align: top;\n",
       "    }\n",
       "\n",
       "    .dataframe thead th {\n",
       "        text-align: right;\n",
       "    }\n",
       "</style>\n",
       "<table border=\"1\" class=\"dataframe\">\n",
       "  <thead>\n",
       "    <tr style=\"text-align: right;\">\n",
       "      <th></th>\n",
       "      <th>restaurant name</th>\n",
       "      <th>restaurant type</th>\n",
       "      <th>rate (out of 5)</th>\n",
       "      <th>num of ratings</th>\n",
       "      <th>avg cost (two people)</th>\n",
       "      <th>online_order</th>\n",
       "      <th>table booking</th>\n",
       "      <th>cuisines type</th>\n",
       "      <th>local address</th>\n",
       "    </tr>\n",
       "  </thead>\n",
       "  <tbody>\n",
       "    <tr>\n",
       "      <th>0</th>\n",
       "      <td>#FeelTheROLL</td>\n",
       "      <td>Quick Bites</td>\n",
       "      <td>3.4</td>\n",
       "      <td>7</td>\n",
       "      <td>200.0</td>\n",
       "      <td>No</td>\n",
       "      <td>No</td>\n",
       "      <td>Fast Food</td>\n",
       "      <td>Bellandur</td>\n",
       "    </tr>\n",
       "    <tr>\n",
       "      <th>1</th>\n",
       "      <td>#L-81 Cafe</td>\n",
       "      <td>Quick Bites</td>\n",
       "      <td>3.9</td>\n",
       "      <td>48</td>\n",
       "      <td>400.0</td>\n",
       "      <td>Yes</td>\n",
       "      <td>No</td>\n",
       "      <td>Fast Food, Beverages</td>\n",
       "      <td>HSR</td>\n",
       "    </tr>\n",
       "    <tr>\n",
       "      <th>2</th>\n",
       "      <td>#refuel</td>\n",
       "      <td>Cafe</td>\n",
       "      <td>3.7</td>\n",
       "      <td>37</td>\n",
       "      <td>400.0</td>\n",
       "      <td>Yes</td>\n",
       "      <td>No</td>\n",
       "      <td>Cafe, Beverages</td>\n",
       "      <td>Bannerghatta Road</td>\n",
       "    </tr>\n",
       "    <tr>\n",
       "      <th>3</th>\n",
       "      <td>'@ Biryani Central</td>\n",
       "      <td>Casual Dining</td>\n",
       "      <td>2.7</td>\n",
       "      <td>135</td>\n",
       "      <td>550.0</td>\n",
       "      <td>Yes</td>\n",
       "      <td>No</td>\n",
       "      <td>Biryani, Mughlai, Chinese</td>\n",
       "      <td>Marathahalli</td>\n",
       "    </tr>\n",
       "    <tr>\n",
       "      <th>4</th>\n",
       "      <td>'@ The Bbq</td>\n",
       "      <td>Casual Dining</td>\n",
       "      <td>2.8</td>\n",
       "      <td>40</td>\n",
       "      <td>700.0</td>\n",
       "      <td>Yes</td>\n",
       "      <td>No</td>\n",
       "      <td>BBQ, Continental, North Indian, Chinese, Bever...</td>\n",
       "      <td>Bellandur</td>\n",
       "    </tr>\n",
       "    <tr>\n",
       "      <th>5</th>\n",
       "      <td>'@99</td>\n",
       "      <td>Takeaway, Delivery</td>\n",
       "      <td>3.4</td>\n",
       "      <td>37</td>\n",
       "      <td>200.0</td>\n",
       "      <td>No</td>\n",
       "      <td>No</td>\n",
       "      <td>Mughlai, Biryani, Chinese, North Indian</td>\n",
       "      <td>Whitefield</td>\n",
       "    </tr>\n",
       "    <tr>\n",
       "      <th>6</th>\n",
       "      <td>'@Italy</td>\n",
       "      <td>Casual Dining</td>\n",
       "      <td>4.1</td>\n",
       "      <td>305</td>\n",
       "      <td>700.0</td>\n",
       "      <td>Yes</td>\n",
       "      <td>No</td>\n",
       "      <td>Italian</td>\n",
       "      <td>Kumaraswamy Layout</td>\n",
       "    </tr>\n",
       "    <tr>\n",
       "      <th>7</th>\n",
       "      <td>'@North Parontha Hut</td>\n",
       "      <td>Takeaway, Delivery</td>\n",
       "      <td>2.8</td>\n",
       "      <td>40</td>\n",
       "      <td>300.0</td>\n",
       "      <td>No</td>\n",
       "      <td>No</td>\n",
       "      <td>North Indian</td>\n",
       "      <td>Old Airport Road</td>\n",
       "    </tr>\n",
       "    <tr>\n",
       "      <th>8</th>\n",
       "      <td>1000 B.C</td>\n",
       "      <td>Quick Bites</td>\n",
       "      <td>3.2</td>\n",
       "      <td>49</td>\n",
       "      <td>300.0</td>\n",
       "      <td>Yes</td>\n",
       "      <td>No</td>\n",
       "      <td>Arabian, Sandwich, Rolls, Burger</td>\n",
       "      <td>Koramangala 5th Block</td>\n",
       "    </tr>\n",
       "    <tr>\n",
       "      <th>9</th>\n",
       "      <td>100ÃÂÃÂÃÂÃÂÃÂÃÂÃÂÃÂ°C</td>\n",
       "      <td>Casual Dining</td>\n",
       "      <td>3.7</td>\n",
       "      <td>41</td>\n",
       "      <td>450.0</td>\n",
       "      <td>No</td>\n",
       "      <td>No</td>\n",
       "      <td>Biryani, North Indian</td>\n",
       "      <td>BTM</td>\n",
       "    </tr>\n",
       "  </tbody>\n",
       "</table>\n",
       "</div>"
      ],
      "text/plain": [
       "                        restaurant name     restaurant type  rate (out of 5)  \\\n",
       "0                          #FeelTheROLL         Quick Bites              3.4   \n",
       "1                            #L-81 Cafe         Quick Bites              3.9   \n",
       "2                               #refuel                Cafe              3.7   \n",
       "3                    '@ Biryani Central       Casual Dining              2.7   \n",
       "4                            '@ The Bbq       Casual Dining              2.8   \n",
       "5                                  '@99  Takeaway, Delivery              3.4   \n",
       "6                               '@Italy       Casual Dining              4.1   \n",
       "7                  '@North Parontha Hut  Takeaway, Delivery              2.8   \n",
       "8                              1000 B.C         Quick Bites              3.2   \n",
       "9  100ÃÂÃÂÃÂÃÂÃÂÃÂÃÂÃÂ°C       Casual Dining              3.7   \n",
       "\n",
       "   num of ratings  avg cost (two people) online_order table booking  \\\n",
       "0               7                  200.0           No            No   \n",
       "1              48                  400.0          Yes            No   \n",
       "2              37                  400.0          Yes            No   \n",
       "3             135                  550.0          Yes            No   \n",
       "4              40                  700.0          Yes            No   \n",
       "5              37                  200.0           No            No   \n",
       "6             305                  700.0          Yes            No   \n",
       "7              40                  300.0           No            No   \n",
       "8              49                  300.0          Yes            No   \n",
       "9              41                  450.0           No            No   \n",
       "\n",
       "                                       cuisines type          local address  \n",
       "0                                          Fast Food              Bellandur  \n",
       "1                               Fast Food, Beverages                    HSR  \n",
       "2                                    Cafe, Beverages      Bannerghatta Road  \n",
       "3                          Biryani, Mughlai, Chinese           Marathahalli  \n",
       "4  BBQ, Continental, North Indian, Chinese, Bever...              Bellandur  \n",
       "5            Mughlai, Biryani, Chinese, North Indian             Whitefield  \n",
       "6                                            Italian     Kumaraswamy Layout  \n",
       "7                                       North Indian       Old Airport Road  \n",
       "8                   Arabian, Sandwich, Rolls, Burger  Koramangala 5th Block  \n",
       "9                              Biryani, North Indian                    BTM  "
      ]
     },
     "execution_count": 10,
     "metadata": {},
     "output_type": "execute_result"
    }
   ],
   "source": [
    "z_data.head(10)"
   ]
  },
  {
   "cell_type": "code",
   "execution_count": 11,
   "id": "ce5c170f",
   "metadata": {},
   "outputs": [
    {
     "data": {
      "text/plain": [
       "restaurant name           object\n",
       "restaurant type           object\n",
       "rate (out of 5)          float64\n",
       "num of ratings             int64\n",
       "avg cost (two people)    float64\n",
       "online_order              object\n",
       "table booking             object\n",
       "cuisines type             object\n",
       "local address             object\n",
       "dtype: object"
      ]
     },
     "execution_count": 11,
     "metadata": {},
     "output_type": "execute_result"
    }
   ],
   "source": [
    "z_data.dtypes"
   ]
  },
  {
   "cell_type": "code",
   "execution_count": 12,
   "id": "7767e5ab",
   "metadata": {},
   "outputs": [
    {
     "data": {
      "text/html": [
       "<div>\n",
       "<style scoped>\n",
       "    .dataframe tbody tr th:only-of-type {\n",
       "        vertical-align: middle;\n",
       "    }\n",
       "\n",
       "    .dataframe tbody tr th {\n",
       "        vertical-align: top;\n",
       "    }\n",
       "\n",
       "    .dataframe thead th {\n",
       "        text-align: right;\n",
       "    }\n",
       "</style>\n",
       "<table border=\"1\" class=\"dataframe\">\n",
       "  <thead>\n",
       "    <tr style=\"text-align: right;\">\n",
       "      <th></th>\n",
       "      <th>restaurant name</th>\n",
       "      <th>restaurant type</th>\n",
       "      <th>rate (out of 5)</th>\n",
       "      <th>num of ratings</th>\n",
       "      <th>avg cost (two people)</th>\n",
       "      <th>online_order</th>\n",
       "      <th>table booking</th>\n",
       "      <th>cuisines type</th>\n",
       "      <th>local address</th>\n",
       "    </tr>\n",
       "  </thead>\n",
       "  <tbody>\n",
       "    <tr>\n",
       "      <th>count</th>\n",
       "      <td>7105</td>\n",
       "      <td>7105</td>\n",
       "      <td>7037.000000</td>\n",
       "      <td>7105.000000</td>\n",
       "      <td>7048.000000</td>\n",
       "      <td>7105</td>\n",
       "      <td>7105</td>\n",
       "      <td>7105</td>\n",
       "      <td>7105</td>\n",
       "    </tr>\n",
       "    <tr>\n",
       "      <th>unique</th>\n",
       "      <td>7105</td>\n",
       "      <td>81</td>\n",
       "      <td>NaN</td>\n",
       "      <td>NaN</td>\n",
       "      <td>NaN</td>\n",
       "      <td>2</td>\n",
       "      <td>2</td>\n",
       "      <td>2175</td>\n",
       "      <td>90</td>\n",
       "    </tr>\n",
       "    <tr>\n",
       "      <th>top</th>\n",
       "      <td>#FeelTheROLL</td>\n",
       "      <td>Quick Bites</td>\n",
       "      <td>NaN</td>\n",
       "      <td>NaN</td>\n",
       "      <td>NaN</td>\n",
       "      <td>Yes</td>\n",
       "      <td>No</td>\n",
       "      <td>North Indian, Chinese</td>\n",
       "      <td>Whitefield</td>\n",
       "    </tr>\n",
       "    <tr>\n",
       "      <th>freq</th>\n",
       "      <td>1</td>\n",
       "      <td>2840</td>\n",
       "      <td>NaN</td>\n",
       "      <td>NaN</td>\n",
       "      <td>NaN</td>\n",
       "      <td>3727</td>\n",
       "      <td>6361</td>\n",
       "      <td>421</td>\n",
       "      <td>459</td>\n",
       "    </tr>\n",
       "    <tr>\n",
       "      <th>mean</th>\n",
       "      <td>NaN</td>\n",
       "      <td>NaN</td>\n",
       "      <td>3.514253</td>\n",
       "      <td>188.921042</td>\n",
       "      <td>540.286464</td>\n",
       "      <td>NaN</td>\n",
       "      <td>NaN</td>\n",
       "      <td>NaN</td>\n",
       "      <td>NaN</td>\n",
       "    </tr>\n",
       "    <tr>\n",
       "      <th>std</th>\n",
       "      <td>NaN</td>\n",
       "      <td>NaN</td>\n",
       "      <td>0.463249</td>\n",
       "      <td>592.171049</td>\n",
       "      <td>462.902305</td>\n",
       "      <td>NaN</td>\n",
       "      <td>NaN</td>\n",
       "      <td>NaN</td>\n",
       "      <td>NaN</td>\n",
       "    </tr>\n",
       "    <tr>\n",
       "      <th>min</th>\n",
       "      <td>NaN</td>\n",
       "      <td>NaN</td>\n",
       "      <td>1.800000</td>\n",
       "      <td>1.000000</td>\n",
       "      <td>40.000000</td>\n",
       "      <td>NaN</td>\n",
       "      <td>NaN</td>\n",
       "      <td>NaN</td>\n",
       "      <td>NaN</td>\n",
       "    </tr>\n",
       "    <tr>\n",
       "      <th>25%</th>\n",
       "      <td>NaN</td>\n",
       "      <td>NaN</td>\n",
       "      <td>3.200000</td>\n",
       "      <td>16.000000</td>\n",
       "      <td>300.000000</td>\n",
       "      <td>NaN</td>\n",
       "      <td>NaN</td>\n",
       "      <td>NaN</td>\n",
       "      <td>NaN</td>\n",
       "    </tr>\n",
       "    <tr>\n",
       "      <th>50%</th>\n",
       "      <td>NaN</td>\n",
       "      <td>NaN</td>\n",
       "      <td>3.500000</td>\n",
       "      <td>40.000000</td>\n",
       "      <td>400.000000</td>\n",
       "      <td>NaN</td>\n",
       "      <td>NaN</td>\n",
       "      <td>NaN</td>\n",
       "      <td>NaN</td>\n",
       "    </tr>\n",
       "    <tr>\n",
       "      <th>75%</th>\n",
       "      <td>NaN</td>\n",
       "      <td>NaN</td>\n",
       "      <td>3.800000</td>\n",
       "      <td>128.000000</td>\n",
       "      <td>600.000000</td>\n",
       "      <td>NaN</td>\n",
       "      <td>NaN</td>\n",
       "      <td>NaN</td>\n",
       "      <td>NaN</td>\n",
       "    </tr>\n",
       "    <tr>\n",
       "      <th>max</th>\n",
       "      <td>NaN</td>\n",
       "      <td>NaN</td>\n",
       "      <td>4.900000</td>\n",
       "      <td>16345.000000</td>\n",
       "      <td>6000.000000</td>\n",
       "      <td>NaN</td>\n",
       "      <td>NaN</td>\n",
       "      <td>NaN</td>\n",
       "      <td>NaN</td>\n",
       "    </tr>\n",
       "  </tbody>\n",
       "</table>\n",
       "</div>"
      ],
      "text/plain": [
       "       restaurant name restaurant type  rate (out of 5)  num of ratings  \\\n",
       "count             7105            7105      7037.000000     7105.000000   \n",
       "unique            7105              81              NaN             NaN   \n",
       "top       #FeelTheROLL     Quick Bites              NaN             NaN   \n",
       "freq                 1            2840              NaN             NaN   \n",
       "mean               NaN             NaN         3.514253      188.921042   \n",
       "std                NaN             NaN         0.463249      592.171049   \n",
       "min                NaN             NaN         1.800000        1.000000   \n",
       "25%                NaN             NaN         3.200000       16.000000   \n",
       "50%                NaN             NaN         3.500000       40.000000   \n",
       "75%                NaN             NaN         3.800000      128.000000   \n",
       "max                NaN             NaN         4.900000    16345.000000   \n",
       "\n",
       "        avg cost (two people) online_order table booking  \\\n",
       "count             7048.000000         7105          7105   \n",
       "unique                    NaN            2             2   \n",
       "top                       NaN          Yes            No   \n",
       "freq                      NaN         3727          6361   \n",
       "mean               540.286464          NaN           NaN   \n",
       "std                462.902305          NaN           NaN   \n",
       "min                 40.000000          NaN           NaN   \n",
       "25%                300.000000          NaN           NaN   \n",
       "50%                400.000000          NaN           NaN   \n",
       "75%                600.000000          NaN           NaN   \n",
       "max               6000.000000          NaN           NaN   \n",
       "\n",
       "                cuisines type local address  \n",
       "count                    7105          7105  \n",
       "unique                   2175            90  \n",
       "top     North Indian, Chinese    Whitefield  \n",
       "freq                      421           459  \n",
       "mean                      NaN           NaN  \n",
       "std                       NaN           NaN  \n",
       "min                       NaN           NaN  \n",
       "25%                       NaN           NaN  \n",
       "50%                       NaN           NaN  \n",
       "75%                       NaN           NaN  \n",
       "max                       NaN           NaN  "
      ]
     },
     "execution_count": 12,
     "metadata": {},
     "output_type": "execute_result"
    }
   ],
   "source": [
    "z_data.describe(include='all')"
   ]
  },
  {
   "cell_type": "code",
   "execution_count": 13,
   "id": "5f9855e6",
   "metadata": {},
   "outputs": [
    {
     "data": {
      "text/plain": [
       "restaurant name           0\n",
       "restaurant type           0\n",
       "rate (out of 5)          68\n",
       "num of ratings            0\n",
       "avg cost (two people)    57\n",
       "online_order              0\n",
       "table booking             0\n",
       "cuisines type             0\n",
       "local address             0\n",
       "dtype: int64"
      ]
     },
     "execution_count": 13,
     "metadata": {},
     "output_type": "execute_result"
    }
   ],
   "source": [
    "z_data.isnull().sum()"
   ]
  },
  {
   "cell_type": "code",
   "execution_count": 14,
   "id": "f42fc98d",
   "metadata": {},
   "outputs": [
    {
     "data": {
      "application/vnd.jupyter.widget-view+json": {
       "model_id": "d18e5ff5b3c64f83ac7795d9059cac2e",
       "version_major": 2,
       "version_minor": 0
      },
      "text/plain": [
       "Summarize dataset:   0%|          | 0/5 [00:00<?, ?it/s]"
      ]
     },
     "metadata": {},
     "output_type": "display_data"
    },
    {
     "data": {
      "application/vnd.jupyter.widget-view+json": {
       "model_id": "670006c20ce24f3ca243ace353eae863",
       "version_major": 2,
       "version_minor": 0
      },
      "text/plain": [
       "Generate report structure:   0%|          | 0/1 [00:00<?, ?it/s]"
      ]
     },
     "metadata": {},
     "output_type": "display_data"
    },
    {
     "data": {
      "application/vnd.jupyter.widget-view+json": {
       "model_id": "37050e78c30d40ada5dd2048596cc0b4",
       "version_major": 2,
       "version_minor": 0
      },
      "text/plain": [
       "Render HTML:   0%|          | 0/1 [00:00<?, ?it/s]"
      ]
     },
     "metadata": {},
     "output_type": "display_data"
    },
    {
     "data": {
      "application/vnd.jupyter.widget-view+json": {
       "model_id": "165469ae74a14068831f209a01772b42",
       "version_major": 2,
       "version_minor": 0
      },
      "text/plain": [
       "Export report to file:   0%|          | 0/1 [00:00<?, ?it/s]"
      ]
     },
     "metadata": {},
     "output_type": "display_data"
    }
   ],
   "source": [
    "profile=pandas_profiling.ProfileReport(z_data)\n",
    "profile.to_file(output_file='zomato_before_EDA.html')"
   ]
  },
  {
   "cell_type": "code",
   "execution_count": 15,
   "id": "59ab03b8",
   "metadata": {},
   "outputs": [
    {
     "data": {
      "text/plain": [
       "3.5142532329117144"
      ]
     },
     "execution_count": 15,
     "metadata": {},
     "output_type": "execute_result"
    }
   ],
   "source": [
    "avg=z_data['rate (out of 5)'].mean()\n",
    "avg"
   ]
  },
  {
   "cell_type": "code",
   "execution_count": 16,
   "id": "dfc5c56f",
   "metadata": {},
   "outputs": [
    {
     "data": {
      "text/plain": [
       "3.5"
      ]
     },
     "execution_count": 16,
     "metadata": {},
     "output_type": "execute_result"
    }
   ],
   "source": [
    "avg=round(avg,1)\n",
    "avg"
   ]
  },
  {
   "cell_type": "code",
   "execution_count": 17,
   "id": "006b0e68",
   "metadata": {},
   "outputs": [],
   "source": [
    "z_data['rate (out of 5)'].fillna(avg,inplace=True)"
   ]
  },
  {
   "cell_type": "code",
   "execution_count": 18,
   "id": "0ceb94d1",
   "metadata": {},
   "outputs": [
    {
     "data": {
      "text/plain": [
       "0"
      ]
     },
     "execution_count": 18,
     "metadata": {},
     "output_type": "execute_result"
    }
   ],
   "source": [
    "z_data['rate (out of 5)'].isnull().sum()"
   ]
  },
  {
   "cell_type": "code",
   "execution_count": 19,
   "id": "ac7ce829",
   "metadata": {},
   "outputs": [
    {
     "data": {
      "text/plain": [
       "540.2864642451759"
      ]
     },
     "execution_count": 19,
     "metadata": {},
     "output_type": "execute_result"
    }
   ],
   "source": [
    "a=z_data['avg cost (two people)'].mean()\n",
    "a"
   ]
  },
  {
   "cell_type": "code",
   "execution_count": 20,
   "id": "bb07e145",
   "metadata": {},
   "outputs": [],
   "source": [
    "z_data['avg cost (two people)'].fillna(a,inplace=True)"
   ]
  },
  {
   "cell_type": "code",
   "execution_count": 21,
   "id": "f759cdef",
   "metadata": {},
   "outputs": [
    {
     "data": {
      "text/plain": [
       "0"
      ]
     },
     "execution_count": 21,
     "metadata": {},
     "output_type": "execute_result"
    }
   ],
   "source": [
    "z_data['avg cost (two people)'].isnull().sum()"
   ]
  },
  {
   "cell_type": "code",
   "execution_count": 22,
   "id": "5064728d",
   "metadata": {},
   "outputs": [],
   "source": [
    "z_data['avg cost (two people)']=z_data['avg cost (two people)'].round().astype(int)"
   ]
  },
  {
   "cell_type": "code",
   "execution_count": 23,
   "id": "195719a5",
   "metadata": {},
   "outputs": [
    {
     "data": {
      "text/plain": [
       "0"
      ]
     },
     "execution_count": 23,
     "metadata": {},
     "output_type": "execute_result"
    }
   ],
   "source": [
    "z_data.duplicated().sum()"
   ]
  },
  {
   "cell_type": "code",
   "execution_count": 68,
   "id": "82790b33",
   "metadata": {},
   "outputs": [
    {
     "data": {
      "text/plain": [
       "Whitefield           459\n",
       "BTM                  458\n",
       "Electronic City      404\n",
       "Marathahalli         381\n",
       "HSR                  378\n",
       "Indiranagar          292\n",
       "JP Nagar             283\n",
       "Bannerghatta Road    257\n",
       "Jayanagar            218\n",
       "Bellandur            199\n",
       "Name: local address, dtype: int64"
      ]
     },
     "execution_count": 68,
     "metadata": {},
     "output_type": "execute_result"
    }
   ],
   "source": [
    "a=z_data['local address'].value_counts().head(10)\n",
    "a"
   ]
  },
  {
   "cell_type": "code",
   "execution_count": 162,
   "id": "3f100318",
   "metadata": {},
   "outputs": [
    {
     "data": {
      "image/png": "[encoded data removed]",
      "text/plain": [
       "<Figure size 432x288 with 1 Axes>"
      ]
     },
     "metadata": {
      "needs_background": "light"
     },
     "output_type": "display_data"
    }
   ],
   "source": [
    "a.plot(kind='bar')\n",
    "plt.xlabel('Restaurant names')\n",
    "plt.ylabel('Number of Orders')\n",
    "plt.title('Top 10 Orders by Area')\n",
    "plt.xticks(rotation=90)\n",
    "plt.show()"
   ]
  },
  {
   "cell_type": "code",
   "execution_count": 113,
   "id": "7f3c2e58",
   "metadata": {},
   "outputs": [],
   "source": [
    "areas = z_data['local address'].value_counts().tail(10)"
   ]
  },
  {
   "cell_type": "code",
   "execution_count": 222,
   "id": "c8778c7c",
   "metadata": {},
   "outputs": [
    {
     "data": {
      "image/png": "[encoded data removed]",
      "text/plain": [
       "<Figure size 432x288 with 1 Axes>"
      ]
     },
     "metadata": {
      "needs_background": "light"
     },
     "output_type": "display_data"
    }
   ],
   "source": [
    "areas.plot(kind='bar',color='orange')\n",
    "plt.xlabel('Restaurant names')\n",
    "plt.ylabel('Number of Orders')\n",
    "plt.title('Bottom 10 Orders by Area')\n",
    "plt.xticks(rotation=90)\n",
    "plt.show()"
   ]
  },
  {
   "cell_type": "code",
   "execution_count": 115,
   "id": "b460fe1b",
   "metadata": {},
   "outputs": [],
   "source": [
    "Top_Cuisines=z_data['cuisines type'].value_counts().head(10)"
   ]
  },
  {
   "cell_type": "code",
   "execution_count": 116,
   "id": "521578f9",
   "metadata": {},
   "outputs": [
    {
     "data": {
      "text/plain": [
       "Index(['North Indian, Chinese', 'North Indian', 'South Indian', 'Fast Food',\n",
       "       'South Indian, North Indian, Chinese', 'Biryani', 'Bakery, Desserts',\n",
       "       'Desserts', 'Cafe', 'Bakery'],\n",
       "      dtype='object')"
      ]
     },
     "execution_count": 116,
     "metadata": {},
     "output_type": "execute_result"
    }
   ],
   "source": [
    "Cuisines_name=z_data['cuisines type'].value_counts().head(10).index\n",
    "Cuisines_name"
   ]
  },
  {
   "cell_type": "code",
   "execution_count": 160,
   "id": "6e4c80ab",
   "metadata": {},
   "outputs": [
    {
     "data": {
      "image/png": "[encoded data removed]",
      "text/plain": [
       "<Figure size 576x576 with 1 Axes>"
      ]
     },
     "metadata": {},
     "output_type": "display_data"
    }
   ],
   "source": [
    "Top_Cuisines.plot(kind='pie',autopct='%1.1f%%',figsize=(8,8))\n",
    "plt.title('Top 10 Cuisines')\n",
    "plt.ylabel('')\n",
    "plt.xticks(rotation=90)\n",
    "plt.show()"
   ]
  },
  {
   "cell_type": "code",
   "execution_count": 173,
   "id": "8f49c18d",
   "metadata": {},
   "outputs": [
    {
     "data": {
      "image/png": "[encoded data removed]",
      "text/plain": [
       "<Figure size 432x432 with 1 Axes>"
      ]
     },
     "metadata": {
      "needs_background": "light"
     },
     "output_type": "display_data"
    }
   ],
   "source": [
    "plt.figure(figsize=(6, 6))\n",
    "sns.countplot(data=z_data, x='online_order')\n",
    "plt.title('Distribution of Online Orders')\n",
    "plt.xlabel('Online Orders')\n",
    "plt.ylabel('Count')\n",
    "plt.show()"
   ]
  },
  {
   "cell_type": "code",
   "execution_count": 215,
   "id": "b6224e4b",
   "metadata": {},
   "outputs": [
    {
     "data": {
      "image/png": "[encoded data removed]",
      "text/plain": [
       "<Figure size 864x576 with 1 Axes>"
      ]
     },
     "metadata": {
      "needs_background": "light"
     },
     "output_type": "display_data"
    }
   ],
   "source": [
    "plt.figure(figsize=(12,8))\n",
    "sns.scatterplot(data=z_data,x='rate (out of 5)',y='avg cost (two people)')\n",
    "plt.title('Relation b/w Ratings and avg_cost')\n",
    "plt.xlabel('Ratings out of 5')\n",
    "plt.ylabel('Avg_cost(Two People)')\n",
    "plt.show()"
   ]
  },
  {
   "cell_type": "code",
   "execution_count": null,
   "id": "0d9ff999",
   "metadata": {},
   "outputs": [],
   "source": []
  }
 ],
 "metadata": {
  "kernelspec": {
   "display_name": "Python 3 (ipykernel)",
   "language": "python",
   "name": "python3"
  },
  "language_info": {
   "codemirror_mode": {
    "name": "ipython",
    "version": 3
   },
   "file_extension": ".py",
   "mimetype": "text/x-python",
   "name": "python",
   "nbconvert_exporter": "python",
   "pygments_lexer": "ipython3",
   "version": "3.9.12"
  }
 },
 "nbformat": 4,
 "nbformat_minor": 5
}
